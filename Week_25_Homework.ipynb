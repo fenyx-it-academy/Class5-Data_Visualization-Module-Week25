{
  "nbformat": 4,
  "nbformat_minor": 0,
  "metadata": {
    "colab": {
      "name": "Week_25_Homework.ipynb",
      "provenance": [],
      "collapsed_sections": []
    },
    "kernelspec": {
      "name": "python3",
      "display_name": "Python 3"
    },
    "language_info": {
      "name": "python"
    }
  },
  "cells": [
    {
      "cell_type": "code",
      "execution_count": 3,
      "metadata": {
        "colab": {
          "base_uri": "https://localhost:8080/",
          "height": 17
        },
        "id": "z1kVYB_M3_4T",
        "outputId": "95bf6087-05e4-42ef-c423-97f6e5adc951"
      },
      "outputs": [
        {
          "output_type": "display_data",
          "data": {
            "text/html": [
              "        <script type=\"text/javascript\">\n",
              "        window.PlotlyConfig = {MathJaxConfig: 'local'};\n",
              "        if (window.MathJax) {MathJax.Hub.Config({SVG: {font: \"STIX-Web\"}});}\n",
              "        if (typeof require !== 'undefined') {\n",
              "        require.undef(\"plotly\");\n",
              "        requirejs.config({\n",
              "            paths: {\n",
              "                'plotly': ['https://cdn.plot.ly/plotly-2.8.3.min']\n",
              "            }\n",
              "        });\n",
              "        require(['plotly'], function(Plotly) {\n",
              "            window._Plotly = Plotly;\n",
              "        });\n",
              "        }\n",
              "        </script>\n",
              "        "
            ]
          },
          "metadata": {}
        }
      ],
      "source": [
        "import pandas as pd\n",
        "import numpy as np\n",
        "\n",
        "# For data visualization\n",
        "import matplotlib.pyplot as plt\n",
        "import matplotlib as mpl\n",
        "import seaborn as sns; sns.set()\n",
        "\n",
        "# plotly\n",
        "import plotly.express as px\n",
        "import plotly as py\n",
        "import plotly.graph_objs as go\n",
        "from plotly.subplots import make_subplots\n",
        "\n",
        "from plotly.offline import init_notebook_mode, iplot, plot\n",
        "init_notebook_mode(connected=True)\n",
        "import plotly.figure_factory as ff\n",
        "\n",
        "# Disabling warnings\n",
        "import warnings\n",
        "warnings.simplefilter(\"ignore\")"
      ]
    },
    {
      "cell_type": "markdown",
      "source": [
        "**Frequency of selected categorical variables with histogram/bar chart**"
      ],
      "metadata": {
        "id": "pl8gC5oWHXqR"
      }
    },
    {
      "cell_type": "code",
      "source": [
        "fig = make_subplots(rows=1, cols=2, specs=[[{\"type\": \"bar\"}, {\"type\": \"bar\"}]],\n",
        "                    subplot_titles=(\"body_type\",\n",
        "                                    \"Colour\"))\n",
        "\n",
        "fig.add_trace(go.Bar(x=body_type.index, y=body_type.price, name='body_type'), row=1, col=1)\n",
        "fig.add_trace(go.Bar(x=Colour.index, y=Colour.price, name='Colour'), row=1, col=2)\n",
        "fig.update_layout(title=\"Frequency of Categorical variables\")\n",
        "\n",
        "fig.show()"
      ],
      "metadata": {
        "id": "d3a2gpGaEL8P"
      },
      "execution_count": null,
      "outputs": []
    },
    {
      "cell_type": "markdown",
      "source": [
        "**Frequency of selected categorical variables with pie chart/donut**"
      ],
      "metadata": {
        "id": "wrLnKXFbHG-N"
      }
    },
    {
      "cell_type": "code",
      "source": [
        "fig = make_subplots(rows=1, cols=2, specs=[[{\"type\": \"pie\"}, {\"type\": \"pie\"}]],\n",
        "                    subplot_titles=(\"body_type\",\n",
        "                                    \"Colour\"))\n",
        "\n",
        "fig.add_trace(go.Pie(labels=miss_df.body_type.value_counts().index, \n",
        "                    values=miss_df.body_type.value_counts().values,\n",
        "                     name=\"body_type\"),\n",
        "             row=1, col=1)\n",
        "\n",
        "fig.add_trace(go.Pie(labels=miss_df.Colour.value_counts().index, \n",
        "                    values=miss_df.Colour.value_counts().values,\n",
        "                     name=\"Colour\"),\n",
        "             row=1, col=2)\n",
        "\n",
        "fig.update_layout(showlegend=False, title=\"Frequency of Categorical variables\",\n",
        "                 height = 700, width = 900)\n",
        "\n",
        "fig.show()"
      ],
      "metadata": {
        "id": "B3upKBW4HFz0"
      },
      "execution_count": null,
      "outputs": []
    },
    {
      "cell_type": "markdown",
      "source": [
        "**Distribution of numerical variables with histogram and boxplot/violin**"
      ],
      "metadata": {
        "id": "YlGFyafaHdHI"
      }
    },
    {
      "cell_type": "code",
      "source": [
        "fig = px.histogram(miss_df, x=\"price\")\n",
        "fig.show()"
      ],
      "metadata": {
        "id": "Vnc6act8Hhyx"
      },
      "execution_count": null,
      "outputs": []
    },
    {
      "cell_type": "code",
      "source": [
        "fig = px.box(miss_df, y=\"Gears\")\n",
        "fig.show()"
      ],
      "metadata": {
        "id": "yRPB122YH7Dn"
      },
      "execution_count": null,
      "outputs": []
    },
    {
      "cell_type": "markdown",
      "source": [
        "**Heatmap for correlation between numerical variables**"
      ],
      "metadata": {
        "id": "2uJeDWzWJzi0"
      }
    },
    {
      "cell_type": "code",
      "source": [
        "mask = np.triu(np.ones_like(miss_df, dtype=bool))\n",
        "rLT = miss_df.mask(mask)\n",
        "\n",
        "heat = go.Heatmap(\n",
        "    z = rLT,\n",
        "    x = rLT.columns.values,\n",
        "    y = rLT.columns.values,\n",
        "    zmin = - 0.25, # Sets the lower bound of the color domain\n",
        "    zmax = 1,\n",
        "    xgap = 1, # Sets the horizontal gap (in pixels) between bricks\n",
        "    ygap = 1,\n",
        "    colorscale = 'RdBu'\n",
        ")\n",
        "\n",
        "title = 'Asset Correlation Matrix'\n",
        "\n",
        "layout = go.Layout(\n",
        "    title_text=title, \n",
        "    title_x=0.5, \n",
        "    width=600, \n",
        "    height=600,\n",
        "    xaxis_showgrid=False,\n",
        "    yaxis_showgrid=False,\n",
        "    yaxis_autorange='reversed'\n",
        ")\n",
        "\n",
        "fig=go.Figure(data=[heat], layout=layout)\n",
        "fig.show()"
      ],
      "metadata": {
        "id": "UChDoELMJzzJ"
      },
      "execution_count": null,
      "outputs": []
    },
    {
      "cell_type": "markdown",
      "source": [
        "**Scatter matrix and/or OLS Scatter Plot for numerical variables**"
      ],
      "metadata": {
        "id": "KuPHF2CzIgws"
      }
    },
    {
      "cell_type": "code",
      "source": [
        "fig = px.scatter(miss_df, x=\"price\", y='Gears', color='Colour', facet_col='Colour')\n",
        "fig.show()"
      ],
      "metadata": {
        "id": "fW9dmuNGIet5"
      },
      "execution_count": null,
      "outputs": []
    }
  ]
}